{
 "cells": [
  {
   "cell_type": "markdown",
   "id": "dd18b35c",
   "metadata": {},
   "source": [
    "# 2018136015_김성원_스크립트프로그래밍_과제03"
   ]
  },
  {
   "cell_type": "markdown",
   "id": "fc3047ee",
   "metadata": {},
   "source": [
    "#### "
   ]
  },
  {
   "cell_type": "markdown",
   "id": "49c05cf1",
   "metadata": {},
   "source": [
    "1. L=[1, 2, 3, 4, 5]일 때 다음 각 문장을 수행한 후의 결과를 보고 납득할 만한 이유를 설명하시오.\n",
    "- 1)  \n"
   ]
  },
  {
   "cell_type": "code",
   "execution_count": 2,
   "id": "1c661359",
   "metadata": {},
   "outputs": [
    {
     "name": "stdout",
     "output_type": "stream",
     "text": [
      "[1, 100, 4, 5]\n"
     ]
    }
   ],
   "source": [
    "L=[1, 2, 3, 4, 5]\n",
    "L[1:3] = [100]  \n",
    "print(L) "
   ]
  },
  {
   "cell_type": "markdown",
   "id": "06ab1347",
   "metadata": {},
   "source": [
    "이유: 리스트 L의 인덱스를 1~2까지 슬라이싱하여 해당 요소를 100으로 바꾸었기 때문에 다음과 같이 출력되었다."
   ]
  },
  {
   "cell_type": "markdown",
   "id": "cd551867",
   "metadata": {},
   "source": [
    "- 2)"
   ]
  },
  {
   "cell_type": "code",
   "execution_count": 3,
   "id": "209db0fa",
   "metadata": {},
   "outputs": [
    {
     "name": "stdout",
     "output_type": "stream",
     "text": [
      "[1, 100, 5]\n"
     ]
    }
   ],
   "source": [
    "L[1:3] = [(100)]\n",
    "print(L)"
   ]
  },
  {
   "cell_type": "markdown",
   "id": "45b7323a",
   "metadata": {},
   "source": [
    "이유: 1)에서 바뀐 리스트 L의 인덱스를 1)과 동일하게 슬라이싱하여 해당 요소를 100으로 바꾸었기 때문에 다음과 같이 출력되었다."
   ]
  },
  {
   "cell_type": "markdown",
   "id": "575627f0",
   "metadata": {},
   "source": [
    "- 3)"
   ]
  },
  {
   "cell_type": "code",
   "execution_count": 4,
   "id": "0079a540",
   "metadata": {},
   "outputs": [
    {
     "ename": "TypeError",
     "evalue": "can only assign an iterable",
     "output_type": "error",
     "traceback": [
      "\u001b[1;31m---------------------------------------------------------------------------\u001b[0m",
      "\u001b[1;31mTypeError\u001b[0m                                 Traceback (most recent call last)",
      "\u001b[1;32m<ipython-input-4-0d5d54f04635>\u001b[0m in \u001b[0;36m<module>\u001b[1;34m\u001b[0m\n\u001b[1;32m----> 1\u001b[1;33m \u001b[0mL\u001b[0m\u001b[1;33m[\u001b[0m\u001b[1;36m1\u001b[0m\u001b[1;33m:\u001b[0m\u001b[1;36m3\u001b[0m\u001b[1;33m]\u001b[0m \u001b[1;33m=\u001b[0m \u001b[1;36m100\u001b[0m\u001b[1;33m\u001b[0m\u001b[1;33m\u001b[0m\u001b[0m\n\u001b[0m\u001b[0;32m      2\u001b[0m \u001b[0mprint\u001b[0m\u001b[1;33m(\u001b[0m\u001b[0mL\u001b[0m\u001b[1;33m)\u001b[0m\u001b[1;33m\u001b[0m\u001b[1;33m\u001b[0m\u001b[0m\n",
      "\u001b[1;31mTypeError\u001b[0m: can only assign an iterable"
     ]
    }
   ],
   "source": [
    "L[1:3] = 100\n",
    "print(L)"
   ]
  },
  {
   "cell_type": "markdown",
   "id": "a5616a57",
   "metadata": {},
   "source": [
    "이유: 100이라는 객체는 반복이 가능한 값이 아니기때문에 오류가 발생한다. "
   ]
  },
  {
   "cell_type": "markdown",
   "id": "3a37e24f",
   "metadata": {},
   "source": [
    "- 4)"
   ]
  },
  {
   "cell_type": "code",
   "execution_count": 5,
   "id": "2a095332",
   "metadata": {},
   "outputs": [
    {
     "ename": "TypeError",
     "evalue": "can only assign an iterable",
     "output_type": "error",
     "traceback": [
      "\u001b[1;31m---------------------------------------------------------------------------\u001b[0m",
      "\u001b[1;31mTypeError\u001b[0m                                 Traceback (most recent call last)",
      "\u001b[1;32m<ipython-input-5-efd35df85453>\u001b[0m in \u001b[0;36m<module>\u001b[1;34m\u001b[0m\n\u001b[1;32m----> 1\u001b[1;33m \u001b[0mL\u001b[0m\u001b[1;33m[\u001b[0m\u001b[1;36m1\u001b[0m\u001b[1;33m:\u001b[0m\u001b[1;36m3\u001b[0m\u001b[1;33m]\u001b[0m \u001b[1;33m=\u001b[0m \u001b[1;33m(\u001b[0m\u001b[1;36m100\u001b[0m\u001b[1;33m)\u001b[0m\u001b[1;33m\u001b[0m\u001b[1;33m\u001b[0m\u001b[0m\n\u001b[0m\u001b[0;32m      2\u001b[0m \u001b[0mprint\u001b[0m\u001b[1;33m(\u001b[0m\u001b[0mL\u001b[0m\u001b[1;33m)\u001b[0m\u001b[1;33m\u001b[0m\u001b[1;33m\u001b[0m\u001b[0m\n",
      "\u001b[1;31mTypeError\u001b[0m: can only assign an iterable"
     ]
    }
   ],
   "source": [
    "L[1:3] = (100)\n",
    "print(L)"
   ]
  },
  {
   "cell_type": "markdown",
   "id": "b9c296a6",
   "metadata": {},
   "source": [
    "이유: 3)과 같이 (100)이라는 객체 튜플로 보일수 있겠지만 튜플이아니고 정수(int)형태이여서 반복이 가능한 값이 아니기때문에 오류가 발생한다."
   ]
  },
  {
   "cell_type": "markdown",
   "id": "93c4dd6f",
   "metadata": {},
   "source": [
    "- 5)"
   ]
  },
  {
   "cell_type": "code",
   "execution_count": 7,
   "id": "070edb64",
   "metadata": {},
   "outputs": [
    {
     "name": "stdout",
     "output_type": "stream",
     "text": [
      "[1, 100, 101, 102, 102]\n"
     ]
    }
   ],
   "source": [
    "L[1:3] = (100, 101, 102)\n",
    "print(L)"
   ]
  },
  {
   "cell_type": "markdown",
   "id": "ed115687",
   "metadata": {},
   "source": [
    "이유: 슬라이싱을 사용하여 인덱스에 있는 요소들을 튜플에 있는 요소들로 바꾸었기 때문에 위와 같은 결과가 발생했다."
   ]
  },
  {
   "cell_type": "markdown",
   "id": "4e45c0db",
   "metadata": {},
   "source": [
    "- 6)"
   ]
  },
  {
   "cell_type": "code",
   "execution_count": 8,
   "id": "5d30fee7",
   "metadata": {},
   "outputs": [
    {
     "name": "stdout",
     "output_type": "stream",
     "text": [
      "[1, 100, 101, 102, 102, 102]\n"
     ]
    }
   ],
   "source": [
    "L[1:3] = [100, 101, 102]\n",
    "print(L)"
   ]
  },
  {
   "cell_type": "markdown",
   "id": "10824208",
   "metadata": {},
   "source": [
    "이유: 인덱스(1~2)에 있는 요소들을 리스트에 있는 요소[100,101,102]들로 바꾸었기 때문에 위와 같은 결과가 발생했다."
   ]
  },
  {
   "cell_type": "markdown",
   "id": "49d2d050",
   "metadata": {},
   "source": [
    "- 7)"
   ]
  },
  {
   "cell_type": "code",
   "execution_count": 9,
   "id": "7d5559c7",
   "metadata": {},
   "outputs": [
    {
     "name": "stdout",
     "output_type": "stream",
     "text": [
      "[1, (100, 101, 102), 102, 102, 102]\n"
     ]
    }
   ],
   "source": [
    "L[1:3] = [(100, 101, 102)]\n",
    "print(L)"
   ]
  },
  {
   "cell_type": "markdown",
   "id": "a50c4e81",
   "metadata": {},
   "source": [
    "이유: 인덱스(1~2)에 있는 요소들을 (100, 101, 102)라는 튜플을 한개의 요소로 바꾸었기 때문이다."
   ]
  },
  {
   "cell_type": "markdown",
   "id": "5f7d68f3",
   "metadata": {},
   "source": [
    "- 8)"
   ]
  },
  {
   "cell_type": "code",
   "execution_count": 10,
   "id": "886c2afc",
   "metadata": {},
   "outputs": [
    {
     "name": "stdout",
     "output_type": "stream",
     "text": [
      "[1, [100, 101, 102], 102, 102]\n"
     ]
    }
   ],
   "source": [
    "L[1:3] = [[100, 101, 102]]\n",
    "print(L)"
   ]
  },
  {
   "cell_type": "markdown",
   "id": "d4f5bee8",
   "metadata": {},
   "source": [
    "이유: 인덱스(1~2)에 있는 요소들을 [100, 101, 102]라는 리스트를 한 개의 요소로 바꾸었기 때문이다."
   ]
  },
  {
   "cell_type": "markdown",
   "id": "ac35d520",
   "metadata": {},
   "source": [
    "### "
   ]
  },
  {
   "cell_type": "markdown",
   "id": "78f75ad9",
   "metadata": {},
   "source": [
    "2. 문자열 S = 'Hello World and Python'에 대해 다음 요구사항에 대한 Python 코드를 제시하시오.  \n",
    "   - 1) 단어의 순서가 역순으로 되어진 문자열 ('Python and World Hello')을 만들고\n",
    "   - 2) 1)의 결과 문자열에 대해 메소드 split과 join을 이용하여 공백을 모두 없엔 문자열 'PythonandWorldHello'을 만드시오."
   ]
  },
  {
   "cell_type": "code",
   "execution_count": 11,
   "id": "4564c9c2",
   "metadata": {},
   "outputs": [
    {
     "name": "stdout",
     "output_type": "stream",
     "text": [
      "PythonandWorldHello\n"
     ]
    }
   ],
   "source": [
    "S = 'Hello World and Python'\n",
    "list_s = S.split()\n",
    "list_s = list_s[::-1]\n",
    "str_s = ''\n",
    "for i in range(len(list_s)):\n",
    "    str_s += list_s[i]+' '\n",
    "\n",
    "list_s = str_s.split()\n",
    "anwser = \"\".join(list_s)\n",
    "print(anwser)"
   ]
  },
  {
   "cell_type": "markdown",
   "id": "30ccb1bc",
   "metadata": {},
   "source": [
    "문자열을 공백을 기준으로 나누어 리스트에 저장하고 해당 리스트를 슬라이싱을 이용하여 거꾸로 저장한후에 \"\".join()메소드를 사용하여 문자열의 공백을 없애주었다."
   ]
  },
  {
   "cell_type": "markdown",
   "id": "66eaafd0",
   "metadata": {},
   "source": [
    "3. 다음 코드를 보고 물음에 답하시오.  \n",
    "  \n",
    "      a = [1, 2, 3]  \n",
    "      b = a * 3  \n",
    "      c = [a] * 3  \n",
    "      print(b)  \n",
    "      print(c)  \n",
    "- 1) 위 코드를 수행한 이후 다음 코드를 수행한 후 b와 c의 내용을 확인하시오.  \n",
    "        a[0]=0  \n",
    "\n",
    "\n"
   ]
  },
  {
   "cell_type": "code",
   "execution_count": 12,
   "id": "7a93ab44",
   "metadata": {},
   "outputs": [
    {
     "name": "stdout",
     "output_type": "stream",
     "text": [
      "[1, 2, 3, 1, 2, 3, 1, 2, 3]\n",
      "[[1, 2, 3], [1, 2, 3], [1, 2, 3]]\n",
      "[1, 2, 3, 1, 2, 3, 1, 2, 3]\n",
      "[[0, 2, 3], [0, 2, 3], [0, 2, 3]]\n"
     ]
    }
   ],
   "source": [
    "a = [1, 2, 3]\n",
    "b = a * 3\n",
    "c = [a] * 3\n",
    "print(b)\n",
    "print(c)\n",
    "a[0] = 0\n",
    "print(b)\n",
    "print(c)"
   ]
  },
  {
   "cell_type": "markdown",
   "id": "b06a73b3",
   "metadata": {},
   "source": [
    "-  2) b와 c 객체의 차이는 무엇인가?"
   ]
  },
  {
   "cell_type": "markdown",
   "id": "4f39dacc",
   "metadata": {},
   "source": [
    "b객체는 리스트 a의 요소를 3번 반복하여 만들져서 리스트 a의 요소들과 다른 주소값을 가르키지만, c객체는 리스트 a를 요소로 갖기때문에 같은 주소값을 가르킨다. "
   ]
  },
  {
   "cell_type": "markdown",
   "id": "1ba93b45",
   "metadata": {},
   "source": [
    "### "
   ]
  },
  {
   "cell_type": "markdown",
   "id": "95c2f5fa",
   "metadata": {},
   "source": [
    "4. 다음 문자열을 ':'을 기준으로 분리하여 리스트로 만들고 각 문자열의 좌우 공백을 제거하시오 (즉, 문자열 S에서 l을 만들어라)  \n",
    "    s = '  first star   :   second star   :    third star  '  \n",
    "    l = ['first star', 'second star', 'third star']\n",
    "- 1) for ~ in 문을 이용한 코드를 작성하시오."
   ]
  },
  {
   "cell_type": "code",
   "execution_count": 13,
   "id": "c3031279",
   "metadata": {},
   "outputs": [
    {
     "name": "stdout",
     "output_type": "stream",
     "text": [
      "['first star', 'second star', 'third star']\n"
     ]
    }
   ],
   "source": [
    "s = '  first star   :   second star   :    third star  '\n",
    "l=s.split(':')\n",
    "for i in range(len(l)):\n",
    "    l[i] = l[i].strip()\n",
    "print(l)"
   ]
  },
  {
   "cell_type": "markdown",
   "id": "1ca23dea",
   "metadata": {},
   "source": [
    "':'를 기준으로 문자열을 나누어 리스트에 저장하고, for ~ in 을 이용하여 각 인덱스의 문자열의 좌우 공백을 .strip()를 통해 제거하였다."
   ]
  },
  {
   "cell_type": "markdown",
   "id": "1b2306cd",
   "metadata": {},
   "source": [
    "- 2) 리스트 내포(list comprehension)를 이용한 코드를 작성하시오.- "
   ]
  },
  {
   "cell_type": "code",
   "execution_count": 14,
   "id": "acab8f33",
   "metadata": {},
   "outputs": [
    {
     "name": "stdout",
     "output_type": "stream",
     "text": [
      "['first star', 'second star', 'third star']\n"
     ]
    }
   ],
   "source": [
    "s = '  first star   :   second star   :    third star  '\n",
    "l=[i.strip() for i in s.split(':')]\n",
    "print(l)"
   ]
  },
  {
   "cell_type": "markdown",
   "id": "ff8b59ce",
   "metadata": {},
   "source": [
    "4 - 1문제의 반복문을 리스트 내포를 이용하여 간단하게 표현하였다."
   ]
  },
  {
   "cell_type": "markdown",
   "id": "071dd1ee",
   "metadata": {},
   "source": [
    "### "
   ]
  },
  {
   "cell_type": "markdown",
   "id": "cedbf8ed",
   "metadata": {},
   "source": [
    "5. 다음과 같이 0보다 큰 정수 리스트 변수 list를 인자로 받는 함수 addall(list)와 addallodd(list)를 for ~ in 리터널과 리스트 내포 방식으로 각각 제시하시오. \n",
    "- 1) addall(list) 함수 (리스트 내의 모든 정수를 더하는 함수로서 해답으로는 for ~ in 리터럴과 리스트 내포 방식으로 각각 제시하시오.)  \n",
    "    - \\>>> addall([1])  \n",
    "      1  \n",
    "  \n",
    "    - \\>>> addall([1, 2, 3, 4, 5, 6, 7, 8, 9])  \n",
    "      45  "
   ]
  },
  {
   "cell_type": "code",
   "execution_count": 15,
   "id": "68db9b65",
   "metadata": {},
   "outputs": [],
   "source": [
    "def addall_for(list_s):\n",
    "    list_sum = 0\n",
    "    for i in list_s:\n",
    "        list_sum += i\n",
    "    return list_sum"
   ]
  },
  {
   "cell_type": "code",
   "execution_count": 16,
   "id": "8f0d87bb",
   "metadata": {},
   "outputs": [
    {
     "data": {
      "text/plain": [
       "1"
      ]
     },
     "execution_count": 16,
     "metadata": {},
     "output_type": "execute_result"
    }
   ],
   "source": [
    "addall_for([1])"
   ]
  },
  {
   "cell_type": "markdown",
   "id": "eaaa9042",
   "metadata": {},
   "source": [
    "'for i in list_s:' 구문을 활용하여 리스트의 각 요소들을 i로 뽑아서 각 요소들의 합을 list_sum에 더하여 값을 반환시켰다."
   ]
  },
  {
   "cell_type": "code",
   "execution_count": 17,
   "id": "10acb35e",
   "metadata": {},
   "outputs": [],
   "source": [
    "def addall(list_s):\n",
    "    return sum([i for i in list_s])"
   ]
  },
  {
   "cell_type": "code",
   "execution_count": 18,
   "id": "f2fd0c70",
   "metadata": {},
   "outputs": [
    {
     "data": {
      "text/plain": [
       "45"
      ]
     },
     "execution_count": 18,
     "metadata": {},
     "output_type": "execute_result"
    }
   ],
   "source": [
    "addall([1, 2, 3, 4, 5, 6, 7, 8, 9])"
   ]
  },
  {
   "cell_type": "markdown",
   "id": "3a61a655",
   "metadata": {},
   "source": [
    "리스트의 각 요소들을 sum()을 이용하여 리스트의 각 요소들의 합을 반환시켰다."
   ]
  },
  {
   "cell_type": "markdown",
   "id": "35e3ce17",
   "metadata": {},
   "source": [
    "- 2) addallodd(list) 함수 (리스트내의 모든 홀수를 더하는 함수로서 해답으로는 for ~ in 리터럴과 리스트 내포 방식으로 각각 제시하시오.)   \n",
    "    - \\>>> addallodd([1])  \n",
    "      1\n",
    "        \n",
    "    - \\>>> addallodd([1, 2, 3, 4, 5, 6, 7, 8, 9])  \n",
    "      25"
   ]
  },
  {
   "cell_type": "code",
   "execution_count": 19,
   "id": "c0976741",
   "metadata": {},
   "outputs": [],
   "source": [
    "def addallodd_for(list_s):\n",
    "    list_sum = 0\n",
    "    for i in list_s:\n",
    "        if i%2!=0:\n",
    "            list_sum += i\n",
    "    return list_sum"
   ]
  },
  {
   "cell_type": "code",
   "execution_count": 20,
   "id": "66693de3",
   "metadata": {},
   "outputs": [
    {
     "data": {
      "text/plain": [
       "25"
      ]
     },
     "execution_count": 20,
     "metadata": {},
     "output_type": "execute_result"
    }
   ],
   "source": [
    "addallodd_for([1, 2, 3, 4, 5, 6, 7, 8, 9])"
   ]
  },
  {
   "cell_type": "markdown",
   "id": "429266a8",
   "metadata": {},
   "source": [
    "'if i%2!=0:' 조건을 걸어 요소들의 값이 홀수일때만 더하여 값을 반환시켰다."
   ]
  },
  {
   "cell_type": "code",
   "execution_count": 21,
   "id": "741fc677",
   "metadata": {},
   "outputs": [],
   "source": [
    "def addallodd(list_s):\n",
    "    return sum([i for i in list_s if i%2!=0])"
   ]
  },
  {
   "cell_type": "code",
   "execution_count": 22,
   "id": "96e83be7",
   "metadata": {},
   "outputs": [
    {
     "data": {
      "text/plain": [
       "25"
      ]
     },
     "execution_count": 22,
     "metadata": {},
     "output_type": "execute_result"
    }
   ],
   "source": [
    "addallodd([1, 2, 3, 4, 5, 6, 7, 8, 9])"
   ]
  },
  {
   "cell_type": "markdown",
   "id": "83c063a5",
   "metadata": {},
   "source": [
    "리스트 내포 방식으로 매개변수로 받은 리스트의 요소들중 홀수만을 추릴 수 있도록 조건을 걸어주고, 그 리스트를 sum()함수를 사용하여 홀수들의 합을 구하여 반환하였다."
   ]
  },
  {
   "cell_type": "markdown",
   "id": "c1c71456",
   "metadata": {},
   "source": [
    "- [참고 1]: 리스트 내포 방식으로 addall() 및 addallodd()함수를 만들 때엔 리스트 내포에 의해 생성된 리스트 결과에 대해 내장 함수를 사용하는 방식을 고려해보시오 (주의: 리스트 내포 방식의 addall() 및 addallodd() 함수의 몸체는 단 1줄로 작성되어야 한다.)\n",
    "- [참고 2]: sum() 등의 내장함수 사용 가능함"
   ]
  },
  {
   "cell_type": "markdown",
   "id": "c49ba8d9",
   "metadata": {},
   "source": [
    "### "
   ]
  },
  {
   "cell_type": "markdown",
   "id": "451d033b",
   "metadata": {},
   "source": [
    "6. 다음 코드를 보고 물음에 답하시오."
   ]
  },
  {
   "cell_type": "code",
   "execution_count": 23,
   "id": "1d8ba897",
   "metadata": {},
   "outputs": [
    {
     "name": "stdout",
     "output_type": "stream",
     "text": [
      "{'low': [1, 2, 3], 'high': [4, 5, 6]}\n",
      "{'low': [1, 2, 3], 'high': [4, 5, 6]}\n",
      "{'low': [1, 2, 3], 'high': [4, 5, 6]}\n",
      "\n",
      "{'low': [10, 20, 30], 'high': [4, 500, 6]}\n",
      "{'low': [10, 20, 30], 'high': [4, 500, 6]}\n",
      "{'low': [1, 2, 3], 'high': [4, 500, 6]}\n"
     ]
    }
   ],
   "source": [
    "L1 = [1, 2, 3]\n",
    "L2 = [4, 5, 6]\n",
    "d = {'low':L1, 'high':L2}\n",
    "e = d\n",
    "f = d.copy()\n",
    "print(d)\n",
    "print(e)\n",
    "print(f)\n",
    "print()\n",
    "d['low'] = [10, 20, 30]\n",
    "d['high'][1] = 500\n",
    "print(d)\n",
    "print(e)\n",
    "print(f)"
   ]
  },
  {
   "cell_type": "markdown",
   "id": "b2cd1f3a",
   "metadata": {},
   "source": [
    "- 1) 위 코드의 수행 결과 d와 e는 항상 같은 결과를 출력한다. 그 이유는 무엇인가?"
   ]
  },
  {
   "cell_type": "markdown",
   "id": "83d3bdb8",
   "metadata": {},
   "source": [
    "        이유: d와 e가 가르키고있는 레퍼런스가 동일하기 때문이다."
   ]
  },
  {
   "cell_type": "markdown",
   "id": "63993436",
   "metadata": {},
   "source": [
    "- 2) 위 코드의 수행 결과 마지막 f의 내용은 다음과 같다. 이 때 'high' 키의 값 내용 중 500이 출력된 이유와 'low' 키의 값 내용 중 [1, 2, 3]이 출력된 이유를 설명하시오 ([hint]: shallow copy 관점에서 설명하시오.)  \n",
    "        {'high': [4, 500, 6], 'low': [1, 2, 3]}"
   ]
  },
  {
   "cell_type": "markdown",
   "id": "8f6feb7b",
   "metadata": {},
   "source": [
    "        이유: f가 d를 복사할때 깊은 복사가 아닌 얕은 복사를 실행하였고, 이로 인해서 f['low']와 d['low']혹은 f['high']와 d['high']의 주소값은 다르지만, 각 요소들이 가르키고있는 주소들은 동일하기 때문이다."
   ]
  },
  {
   "cell_type": "markdown",
   "id": "52af5089",
   "metadata": {},
   "source": [
    "7. 사전 d = {'one':1, 'two':2, 'three':3, 'four':4, 'five':5}가 주어졌을 때 다음 요구사항에 맞는 코드를 제시하시오\n",
    "    - [참고]: d.keys(), d.values()를 통해 리스트를 얻어낸 후 리스트가 지니고 있는 sort(cmp=None, key=None, reverse=False)함수를 활용하시오."
   ]
  },
  {
   "cell_type": "markdown",
   "id": "bb83cf15",
   "metadata": {},
   "source": [
    "- 1) 키의 알파벳 오름차순 순서대로 튜플 (키, 값)을 차례대로 출력하시오."
   ]
  },
  {
   "cell_type": "code",
   "execution_count": 24,
   "id": "87be1d50",
   "metadata": {},
   "outputs": [
    {
     "name": "stdout",
     "output_type": "stream",
     "text": [
      "[('five', 5), ('four', 4), ('one', 1), ('three', 3), ('two', 2)]\n"
     ]
    }
   ],
   "source": [
    "d = {'one':1, 'two':2, 'three':3, 'four':4, 'five':5}\n",
    "list_d = list(zip(d.keys(), d.values()))\n",
    "list_d.sort()\n",
    "print(list_d)"
   ]
  },
  {
   "cell_type": "markdown",
   "id": "8da0bc9f",
   "metadata": {},
   "source": [
    "사전을 튜플(키, 값)을 요소로 갖는 리스트로 변환하여 키(key)를 sort()함수를 이용하여 오름차순으로 출력함"
   ]
  },
  {
   "cell_type": "markdown",
   "id": "894b8166",
   "metadata": {},
   "source": [
    "- 2) 키의 알파벳 내림차순 순서대로 튜플 (키, 값)을 차례대로 출력하시오."
   ]
  },
  {
   "cell_type": "code",
   "execution_count": 25,
   "id": "3ed1eaed",
   "metadata": {},
   "outputs": [
    {
     "name": "stdout",
     "output_type": "stream",
     "text": [
      "[('two', 2), ('three', 3), ('one', 1), ('four', 4), ('five', 5)]\n"
     ]
    }
   ],
   "source": [
    "d = {'one':1, 'two':2, 'three':3, 'four':4, 'five':5}\n",
    "list_d = list(zip(d.keys(), d.values()))\n",
    "list_d.sort(reverse=True)\n",
    "print(list_d)"
   ]
  },
  {
   "cell_type": "markdown",
   "id": "7a0382e4",
   "metadata": {},
   "source": [
    "사전을 튜플(키, 값)을 요소로 갖는 리스트로 변환하여 키(key)를 sort(reverse=Ture)함수를 이용하여 내림차순으로 출력함"
   ]
  },
  {
   "cell_type": "markdown",
   "id": "3e7fcc77",
   "metadata": {},
   "source": [
    "- 3) 값의 오름차순 순서대로 튜플 (키, 값)을 차례대로 출력하시오."
   ]
  },
  {
   "cell_type": "code",
   "execution_count": 26,
   "id": "9f779062",
   "metadata": {},
   "outputs": [
    {
     "name": "stdout",
     "output_type": "stream",
     "text": [
      "[('one', 1), ('two', 2), ('three', 3), ('four', 4), ('five', 5)]\n"
     ]
    }
   ],
   "source": [
    "d = {'one':1, 'two':2, 'three':3, 'four':4, 'five':5}\n",
    "list_d = list(zip(d.keys(), d.values()))\n",
    "list_d.sort(key = lambda i : i[1])\n",
    "print(list_d)"
   ]
  },
  {
   "cell_type": "markdown",
   "id": "01206809",
   "metadata": {},
   "source": [
    "lambda 함수를 이용하여 리스트에 있는 'value'들을 받아들여 값들이 오름차순으로 정렬될 수 있도록하였다."
   ]
  },
  {
   "cell_type": "markdown",
   "id": "cb76532b",
   "metadata": {},
   "source": [
    "- 4) 값의 내림차순 순서대로 튜플 (키, 값)을 차례대로 출력하시오."
   ]
  },
  {
   "cell_type": "code",
   "execution_count": 27,
   "id": "4ea02f0d",
   "metadata": {},
   "outputs": [
    {
     "name": "stdout",
     "output_type": "stream",
     "text": [
      "[('five', 5), ('four', 4), ('three', 3), ('two', 2), ('one', 1)]\n"
     ]
    }
   ],
   "source": [
    "d = {'one':1, 'two':2, 'three':3, 'four':4, 'five':5}\n",
    "list_d = list(zip(d.keys(), d.values()))\n",
    "list_d.sort(key = lambda i: i[1],reverse=True)\n",
    "print(list_d)"
   ]
  },
  {
   "cell_type": "markdown",
   "id": "8c2e7086",
   "metadata": {},
   "source": [
    "lambda 함수를 이용하여 리스트에 있는 'value'들을 받아들이고, 'reverse=True'를 통해 값들이 내림차순으로 정렬될 수 있도록하였다."
   ]
  },
  {
   "cell_type": "markdown",
   "id": "94ffa9ca",
   "metadata": {},
   "source": [
    "### "
   ]
  },
  {
   "cell_type": "markdown",
   "id": "3f0ae6f2",
   "metadata": {},
   "source": [
    "8. 다음 문제를 정확히 읽고 적합한 코딩을 제시하시오.\n",
    "    - length(X)를 다음과 같이 정의한다 : 10진수로 표현된 X의 자릿수  \n",
    "    - Strange라는 숫자를 아래과 같이 정의한다.  \n",
    "       - 음이 아닌 정수 중 자릿수가 1인 모든 숫자는 Strange이다.  \n",
    "       - length(X) > 1 인 숫자 X 는 다음 2가지를 만족하면 Strange이다.  \n",
    "           - X는 length(X)로 정확히 나누어 떨어진다.    \n",
    "           - X / length(X) 가 strnage이다.   \n",
    "           \n",
    "    - 이 문제에서 숫자 하나가 주어질 때, 이 숫자가 Strange인지 판단하는 함수 isStrange(num)을 작성하시오.\n",
    "    - isStrange(num) 함수가 재귀적인 함수가 되도록 작성해 보세요."
   ]
  },
  {
   "cell_type": "markdown",
   "id": "c17c7fe6",
   "metadata": {},
   "source": [
    "- [예시]\n",
    "    1. num = 0　　　　　　　　　　　=>    True  \n",
    "    2. num = 56　　　　　　　　　　　=>    True   \n",
    "    3. num = 100　　　　　　　　　　=>    False  \n",
    "    4. num = 7882602506492313600　　=>    True\n",
    "    5. num = 6012302549522098651　　=>    False\n"
   ]
  },
  {
   "cell_type": "code",
   "execution_count": 28,
   "id": "6e9b7362",
   "metadata": {},
   "outputs": [],
   "source": [
    "def length(num): \n",
    "    if num>0: \n",
    "        return len(str(num)) \n",
    "    elif num<0:\n",
    "        return len(str(num))-1\n",
    "    else: \n",
    "        return 1       "
   ]
  },
  {
   "cell_type": "code",
   "execution_count": 29,
   "id": "37cf1a04",
   "metadata": {},
   "outputs": [],
   "source": [
    "def isStrange(num):\n",
    "    if 0 <= num < 10:\n",
    "        return True\n",
    "    elif num % length(num) != 0:\n",
    "        return False\n",
    "    else :\n",
    "        if isStrange(int(num / length(num))):\n",
    "            return True"
   ]
  },
  {
   "cell_type": "code",
   "execution_count": 30,
   "id": "2d28a9ce",
   "metadata": {},
   "outputs": [
    {
     "name": "stdout",
     "output_type": "stream",
     "text": [
      "True\n",
      "True\n",
      "False\n",
      "True\n",
      "False\n"
     ]
    }
   ],
   "source": [
    "print(isStrange(0))\n",
    "print(isStrange(56))\n",
    "print(isStrange(100))\n",
    "print(isStrange(7882602506492313600))\n",
    "print(isStrange(6012302549522098651))"
   ]
  },
  {
   "cell_type": "markdown",
   "id": "d2bba179",
   "metadata": {},
   "source": [
    "lenght(num)에서 매개변수로 받은 값을 문자열로 변환하여 자릿수를 파악할 수 있도록하였고, num이 음수일 경우 '-'로 인해 자릿수가 하나가 더 생기므로 len(str(num))-1하여 감소시켰다.  \n",
    "문제의 조건에서 보여준것처런 음이 아닌 정수중 자릿수가 1인 모든 숫자는 'if 0 <= num < 10: return True'를 통해 모두 참이 나오도록 하였고,\n",
    "2자릿수가 넘어가면 num이 num의 자릿수로 나누어 떨어지는지 확인하고 'isStrange(int(num / length(num))'하여 조건 'X / length(X)'도 만족하는지 확인할 수 있도록 구현하였다."
   ]
  },
  {
   "cell_type": "markdown",
   "id": "4868fa1b",
   "metadata": {},
   "source": [
    "### "
   ]
  },
  {
   "cell_type": "markdown",
   "id": "82297d65",
   "metadata": {},
   "source": [
    "9. 다음 문제를 정확히 읽고 적합한 코딩을 제시하시오.\n",
    "\n",
    "- 1번 그룹, 2번 그룹, ... n번 그룹으로 번호가 매겨진 총 n개의 그룹이 존재하고, ith 그룹에는 임의의 팀원 수 ai 명이 있다.\n",
    "  하나의 버스 정류장이 있고, 버스는 오직 한 대만 운영한다. 버스는 버스 정류장에 도착하고 모든 그룹은 버스를 통해 여행하길 원한다.\n",
    "  하지만, 같은 그룹에 속한 팀원들은 분리되기를 원치 않는다. 그래서 그룹의 모든 팀원이 탈 수 있을 때 에만 그 그룹은 버스에 탑승한다.\n",
    "  또한, 이들은 그룹의 번호순으로 여행을 하길 원한다. 예를 들어, 3번 그룹은 1번 그룹과 2번 그룹이 여행을 한 뒤에 버스를 탈 수 있거나, 1번     그룹과 2번 그룹이 이미 버스에 탑승한 상태에 있을 때 동시에 버스를 탈 수 있다.\n",
    "  마지막으로, 버스는 빈 좌석이 없을 때 에만 여행을 떠난다.\n",
    "\n",
    "- 이 문제에서 각 그룹의 팀원 수가 리스트로 주어질 때, 가능한 모든 버스의 사이즈 x(x명의 사람들이 동시에 탈 수 있음)를 반환하는 함수 solve(a) 를 작성하시오.\n",
    "- [주의] 반드시 계산 복잡도를 최대한 낮추세요. 아래 예시 3번을 실행했을 때 결과가 바로 나타날 수 있도록!!"
   ]
  },
  {
   "cell_type": "markdown",
   "id": "5cf81948",
   "metadata": {},
   "source": [
    "- [예시]\n",
    "    1. a = [1, 2, 1, 1, 1, 2, 1, 3]    =>    [3, 4, 6, 12]\n",
    "    2. a = [1, 1, 1, 1]                =>    [1, 2, 4]\n",
    "    3. a = [9999] * 10**5              =>    \n",
    "[9999,19998,39996,49995,79992,99990,159984,199980,249975,319968,399960,499950,799920,999900,1249875,1599840,1999800,24997  50,3999600,4999500,6249375,7999200,9999000,12498750,19998000,24997500,31246875,39996000,49995000,62493750,99990000,124987  500,199980000,249975000,499950000,999900000]"
   ]
  },
  {
   "cell_type": "code",
   "execution_count": 31,
   "id": "7441ee70",
   "metadata": {},
   "outputs": [],
   "source": [
    "def common_factor(list_s):\n",
    "    val = sum([i for i in list_s])\n",
    "    list_common = []\n",
    "    for i in range(1, val+1):\n",
    "        if val % i == 0:\n",
    "            list_common.append(i)\n",
    "    return list_common"
   ]
  },
  {
   "cell_type": "code",
   "execution_count": 206,
   "id": "95567fed",
   "metadata": {},
   "outputs": [],
   "source": [
    "def solve(a):\n",
    "    com_list = common_factor(a)\n",
    "    Max_val = max(a)\n",
    "    list_common = []\n",
    "    for i in range(len(com_list)):\n",
    "        if com_list[i] >= Max_val:\n",
    "            list_common.append(com_list[i])\n",
    "    new_list=[]\n",
    "    for i in list_common:\n",
    "        \n",
    "        for j in range(0, len(a)+1):\n",
    "            if sum(a[0:j]) == i:\n",
    "                new_list.append(i)\n",
    "    return new_list"
   ]
  },
  {
   "cell_type": "code",
   "execution_count": 214,
   "id": "0cfac474",
   "metadata": {},
   "outputs": [
    {
     "name": "stdout",
     "output_type": "stream",
     "text": [
      "a =  [1, 2, 1, 1, 1, 2, 1, 3] => [3, 4, 6, 12]\n"
     ]
    }
   ],
   "source": [
    "a =  [1, 2, 1, 1, 1, 2, 1, 3] \n",
    "print('a = ', a, '=>', solve(a))"
   ]
  },
  {
   "cell_type": "markdown",
   "id": "a49d08f2",
   "metadata": {},
   "source": [
    "사람들을 버스에 태우기 위해서 각 요소들의 합의 공약수의 자리 개수를 가진 버스만이 버스를 꽉채워서 태울 수 있기때문에, 모든 인원의 수를 더하여 공약수를 구하는 함수(common_factor)를 구현하였고, 이때 가장 많은 사람의 수를 가진 n그룹의 한번에 사람을 다 태우기위해서는 해당 그룹의 인원수 보다 자리가 같거나 많아야 하므로, 공약수를 구한 함수의 요소중 n그룹의 인원수 보다 작은 요소들은 제거하여 남은 요소들을 계산하여 문제를 해결하였다."
   ]
  },
  {
   "cell_type": "markdown",
   "id": "65c9b056",
   "metadata": {},
   "source": [
    "### "
   ]
  },
  {
   "cell_type": "markdown",
   "id": "5f91ba49",
   "metadata": {},
   "source": [
    "###  [Incremental Project 문제]  \n",
    "  \n",
    "  \n",
    "#### 이전 Assignment 2의 마지막 문제는 웹 URL로 지정된 웹페이지를 문자열로 가져와 모든 HTML 태그를 제외한 순수 텍스트를 얻어내고 그 안에 존재하는 단어를 추출하고 단어들의 총 개수를 출력하는 프로그램을 작성하는 것이었다. 이번에는 그 마지막 숙제를 그대로 확장하여 웹 URL로 지정된 웹페이지 내 순수 텍스트 안에 존재하는 각 단어들에 대해 다음 요구사항 대로 출력하는 프로그램을 작성하시오.  \n",
    "- 요구사항 1. CSS와 Javascript 내용도 모두 제거하시오 (이전 숙제에서 이미 제외하였다면 본 요구사항 무시)  \n",
    "\n",
    "\n",
    "- 요구사항 2. 순수 텍스트 안에 존재하는 단어들에 대해 string 모듈을 활용하여 모든 punctuation (구두문자)를 완벽히 제거하시오.  \n",
    "    - 예: ['world!', ':', '+hello+', '~python$$$', '=', 'world'] ---> ['world', 'hello', 'python', 'world']  \n",
    "    - 모든 punctuation을 확인하는 방법은 아래와 같다.  \n",
    "            import string\n",
    "            print(string.punctuation)\n",
    "- 요구사항 3. 만약 punctuation (구두문자)를 제거한 이후 공백으로 판명되는 단어들은 해당 단어 리스트에서 제거하시오.\n",
    "    - 예: ['컴퓨터공학부!', '---?', '%지향~', '...'] ---> ['컴퓨터공학부', '', '지향', ''] ---> ['컴퓨터공학부', '지향']\n",
    "  \n",
    "- 요구사항 3. 각 단어들의 출현빈도를 사전형태로 저장하여 출력하시오.\n",
    "    - 예: ['world', 'hello', 'python', 'world', '컴퓨터공학부', '지향'] ---> {'world': 2, 'hello': 1, 'python': 1, '컴퓨터공학부': 1, '지향': 1}  \n",
    "\n",
    "- 요구사항 4. 다음 5개의 사이트에 대한 단어 출현빈도 결과를 출력하시오.  \n",
    "    - http://cse.koreatech.ac.kr  \n",
    "    - https://www.koreatech.ac.kr  \n",
    "    - http://www.naver.com  \n",
    "    - http://www.daum.net  \n",
    "    - http://www.nytimes.com  \n"
   ]
  },
  {
   "cell_type": "code",
   "execution_count": 159,
   "id": "4cf00707",
   "metadata": {},
   "outputs": [],
   "source": [
    "import requests\n",
    "\n",
    "\n",
    "req = requests.get('https://www.koreatech.ac.kr')\n",
    "\n",
    "source = req.text"
   ]
  },
  {
   "cell_type": "code",
   "execution_count": 177,
   "id": "86d46a68",
   "metadata": {},
   "outputs": [],
   "source": [
    "import string\n",
    "def StringSearch():\n",
    "    #new_list=[]\n",
    "    \n",
    "    \n",
    "    \n",
    "    new1_list=[]\n",
    "    for i in range(len(source)):\n",
    "        for j in range(i,len(source)):\n",
    "            if source[i] == '>':\n",
    "                if source[j] == '<':\n",
    "                    new1_list.append(source[i+1:j])\n",
    "                    break\n",
    "    new2_list=[]\n",
    "    for i in range(len(new1_list)):\n",
    "        if \"\\n\" not in new1_list[i]:\n",
    "             new2_list.append(new1_list[i])\n",
    "                \n",
    "    new3_list=[]\n",
    "    for i in range(len(new2_list)):\n",
    "        new3_list += new2_list[i].split()\n",
    "    \n",
    "    new4_list=[] #구두문자가 제거된 상태의 문자를 저장하는 리스트\n",
    "    for i in range(len(new3_list)):\n",
    "        new3_list[i] = new3_list[i].translate(str.maketrans('', '', string.punctuation))\n",
    "        if new3_list[i] != '':\n",
    "            new4_list.append(new3_list[i])\n",
    "\n",
    "    new_dic={} #\n",
    "    for i in range(len(new4_list)):\n",
    "        cnt = 1\n",
    "        for j in range(i+1, len(new4_list)):\n",
    "            if new4_list[i] == '':\n",
    "                break\n",
    "            if new4_list[i] ==  new4_list[j]:\n",
    "                cnt += 1\n",
    "                new4_list[j] = ''\n",
    "            new_dic[new4_list[i]] = cnt\n",
    "        \n",
    "    print(new_dic)"
   ]
  },
  {
   "cell_type": "code",
   "execution_count": 178,
   "id": "d47c3450",
   "metadata": {},
   "outputs": [
    {
     "name": "stdout",
     "output_type": "stream",
     "text": [
      "{'닫기': 1, 'Link': 1, 'Service': 1, '재학생': 3, '학생이': 4, '행복한': 4, '대학': 8, '한국기술교육대학교': 12, '온라인교육지원': 3, '생활관': 3, '원격지원': 2, '오늘의': 2, '식단': 2, '시설보수신청': 1, '학사종합시스템': 1, '인터넷증명발급': 3, '동아리안내': 2, '입학정보': 4, '코리아텍의': 4, '입학정보를': 4, '제공합니다': 8, '취업정보': 4, '최신': 4, '취업관련': 4, '정보를': 4, '예비대학생': 3, '입학안내': 3, '학부소개': 2, '언론기사': 2, '홍보영상물': 2, '장학제도': 2, '전화번호찾기': 2, '찾아오시는길': 3, '교직원': 3, '아우누리': 1, '무선랜신청': 1, '교육장비검색': 1, '일반인': 3, '코리아텍소개': 1, 'VISION2020': 2, 'PLUS': 2, '대학원소개': 1, '캠퍼스투어': 1, '코리아텍': 1, '특장점': 1, '자세히': 2, '보기': 2, '중앙일보대학평가‘교육중심대학’': 2, '1위': 4, '코리아텍은': 2, '중앙일보대학평가': 2, '11년': 2, '연속으로': 2, '“교육중심대학': 2, '1위”': 2, '의': 2, '성과를': 2, '이루었습니다': 2, '스킵네비게이션': 1, '본문바로가기': 1, '주메뉴바로가기': 1, '통학·': 1, '셔틀버스': 1, '안전보건경영': 2, '웹메일': 3, '행정서비스헌장': 2, '부패행위신고': 1, '홈페이지': 1, '오류신고': 1, 'ENG': 2, 'CHI': 2, '팝업': 1, '0': 1, '건': 1, '전체메뉴열기': 1, '전체메뉴닫기': 1, '대학소개': 1, 'KOREATECH소개': 1, '교육목표': 1, '및': 2, '인재상': 1, '대학특성': 1, 'KOREATECH': 7, '심볼': 1, '교가': 1, '캠퍼스': 1, '안내': 1, '통학셔틀버스안내': 1, 'KOREATECH20년': 1, '총장실': 1, '총장인사말': 1, '총장프로필': 1, '총장동정': 1, '열린총장실': 1, '역대총장': 1, '대학현황': 1, '대학요람': 1, '규정집': 1, '연혁': 1, '재정현황': 1, '시설현황': 1, '재학생현황': 1, '대학조직': 1, '조직구성': 1, '전화번호검색': 1, '국제교류': 1, '국제교류현황': 1, '국제협력프로그램': 1, '발전기금': 2, '모금캠페인': 1, '참여하기': 1, '기부자예우': 1, '발전기금소식': 1, '후원커뮤니티': 1, '부패행위': 2, '신고': 2, '익명신고': 1, '청렴게시판': 1, '청렴자료실': 1, '청탁금지법': 2, 'QA': 2, '국민권익위': 1, '비전': 1, '추진체계': 1, '안전보건방침': 1, '선포식': 1, '안전': 2, '게시판': 2, '감염병': 1, '자료실': 1, '신문고': 1, '대학원': 2, '입시요강': 1, '전년도': 1, '결과확인': 1, '모의성적계산': 1, '대학대학원': 2, '기계공학부': 2, '메카트로닉스공학부': 3, '전기전자통신공학부': 2, '컴퓨터공학부': 2, '디자인·건축공학부': 1, '에너지신소재화학공학부': 2, '산업경영학부': 2, '고용서비스정책학과': 1, '교양학부': 2, 'HRD학과': 2, '융합학과': 2, '일학습병행대학': 1, '대학생활': 1, '학사안내': 1, '학사일정': 2, '학적': 1, '변동': 1, '교과과정': 1, '특수교과': 1, '수강신청': 1, '졸업': 1, '졸업작품': 2, '해외연수': 1, '교환학생안내': 1, '어학연수안내': 1, '교내장학금': 1, '교외장학금': 1, '캠퍼스생활': 1, '은행업무': 1, '증명서발급': 1, '학생증발급': 1, '도서관이용안내': 1, '모바일화폐페이코사용안내': 1, '보건실안내': 1, '소프트웨어사용안내': 1, '무선랜사용신청': 1, '병사안내': 1, '병무안내': 1, '직장예비군안내': 1, '민방위안내': 1, '병무안내관련사이트': 1, '커뮤니티': 1, '공지사항': 4, '일반공지': 1, '장학공지': 1, '학사공지': 1, '채용공지': 1, '코로나19관련공지': 1, '학부모님': 1, '의견란': 1, '고객만족경영': 1, '고객만족경영체계': 1, '고객의': 1, '소리제안': 1, 'VOC': 1, '개선사항': 1, '정보공개': 2, '정보공개제도안내': 1, '정보공개업무편람': 1, '정보공개이의신청': 1, '사전정보공표목록': 1, '인터넷정보공개청구': 1, '행정정보소재': 1, '공공데이터': 1, '공공데이터개방': 1, '데이터의견수렴·오류신고': 1, '행정공시': 1, '학교법인임원공시': 1, '구매입찰': 1, '회계공시': 1, '경영공시': 1, '대학알리미': 1, 'ALIO경영공시': 1, '대학혁신지원사업': 2, '사업실명제': 1, '민간투자사업': 1, '개교': 1, '30주년': 3, '사업소개': 1, '위원장': 1, '인사말': 1, '기념사업': 1, '개요': 1, '엠블럼': 1, '30년': 2, '발자취': 1, '함께하는': 1, '사업소식': 1, '자료': 1, '기증': 1, 'Story': 1, 'NEWS': 1, '대학홍보영상': 1, '홍보관련영상': 1, '언론보도영상': 1, '홍보대사': 1, '나래': 1, '대학소식지': 1, '대학캠퍼스투어': 1, '홍보브로셔': 1, '학부모': 1, '초청의': 1, '날': 1, '행사참여안내': 1, '행사참여신청': 1, '포토갤러리': 2, 'CoverStory': 1, '홍보소재제안': 1, '전체메뉴보기': 1, 'SEARCH': 1, '대한민국': 1, '기술리더': 1, '01': 1, 'COVER': 3, 'STORY': 3, '코로나에': 1, '못': 1, '만난다고quot아바타로': 1, '회의하고': 1, '협약까지': 1, '한다quot': 1, '13': 1, '학부과별': 1, '홍보영상': 1, '공개': 1, '09': 1, '장신철': 1, '한국기술교육대': 1, '고용서비스정책학과장': 1, '“고용서비스는': 1, '기본적인': 1, '사회안전망전문인력': 1, '육성해야”': 1, '능력개발교육원': 2, '온라인평생교육원': 2, '직업능력심사평가원': 2, '산학협력단': 2, '대외협력팀': 1, '문화지원금': 1, '받고': 1, '외국인': 1, '친구랑': 1, '여행하자': 1, '10명': 1, '선착순': 1, '모집': 1, '20211022': 4, '입학홍보팀': 1, 'X': 1, 'IPP센터': 2, '유튜브': 2, '구독': 1, '댓글': 1, '이벤트': 1, '기간연장': 1, '현장실습': 1, '연구': 1, 'FGI': 1, '인터뷰': 1, '참가': 1, '학생': 1, '모집온누리상품권': 1, '지급': 1, '취창업지원팀': 1, '취업특강직업훈련교사': 1, '진출분야': 1, '신청자': 1, '모집1111목': 1, 'KCDP': 1, '인정': 1, '프로그램5점': 1, '더보기': 3, '포토갤러리더보기': 1, '팝업존': 1, '재생': 1, '정지': 1, '숫자로': 1, '보는': 1, '847': 1, '전국': 1, '4년제': 1, '취업률': 2, '출처': 3, '대학정보공시': 3, '졸업생': 1, '500명': 1, '이상': 1, '1': 1, '위': 1, '중앙일보': 2, '대학평가': 1, '교육중심대학11년연속': 1, '‘19년': 1, '평가': 1, '3296': 1, '천원': 1, '장학금': 1, '수령액': 1, '2020년': 1, '기준': 1, 'Statistics': 1, '분포현황': 1, '자주찾는': 1, '서비스': 1, '학사종합서비스': 2, '온라인교육': 1, '학과안내': 1, 'SNS': 1, '페이스북': 1, '한국기술교육대학교KOREATECH님이': 1, '게시한': 1, '사진': 1, '20211014': 1, 'KOREATECH한국기술교육대학교': 1, 'Wings': 1, 'Magazine': 1, '2021년': 1, '10월호': 2, '20211015': 2, 'WingsMagazine': 1, '2021': 1, '하반기': 1, '황태현': 1, '한국기술교육대학교KOREATECH': 1, '20211018': 1, '네이버블로그': 1, '인스타그램': 1, '디자인공학전공': 1, '건축공학전공': 1, '일반대학원': 1, '테크노인력개발전문대학원': 1, 'IT융합과학경영대학원': 1, '최고경영자과정': 1, '주요사이트': 1, '네이버': 1, '공식블로그': 1, '웹갤러리': 1, '청년워크넷': 1, '고용부': 1, '워크넷': 1, '잡코리아': 1, '사람인': 1, '인크루트': 1, '교내주요기관': 1, '다산정보관': 1, 'LINC사업단': 1, '생활협동조합': 1, '반도체': 1, '장비기술교육센터': 1, '상담진로개발센터': 1, 'IPP포털': 2, '사회봉사센터': 1, '다담창의센터': 1, 'IPP·UniTech허브사업단': 1, '창업지원센터': 1, '듀얼공동훈련센터허브사업단': 1, '대학혁신사업단': 1, '교수학습센터': 1, '도제허브사업단': 1, '국제교육센터': 1, '학생자치단체': 1, '총학생회': 1, '코리아텍방송국': 1, '생활관자치회': 1, '대외유관기관': 1, '고용노동부': 1, '산업통상자원부': 1, '기획재정부': 1, '한국산업인력공단': 1, '한국폴리텍대학': 1, '한국교육개발원': 1, '한국노동연구원': 1, '한국고용노동교육원': 1, '근로복지공단': 1, '한국산업안전보건공단': 1, '한국고용정보원': 1, '한국직업능력개발원': 1, '한국장애인고용공단': 1, '충청남도청': 1, '천안시청': 1, '국민권익위원회': 1, '교육부': 1, 'NTIS': 1, '원격훈련심사센터': 1, 'TOP': 1, '서비스메뉴': 1, '개인정보처리방침': 1, '이메일무단수집거부': 1, '윤리헌장': 1, '알리오': 1, '도로명주소안내': 1, '좌측내용': 1, '우측내용': 1, '31253': 1, '충청남도': 1, '천안시': 1, '동남구': 1, '병천면': 1, '충절로': 1, '1600': 1, '가전리': 1, 'TEL': 1, '0415601114': 1, 'FAX': 1, '02': 1, 'EMAIL': 1, 'interkoreatechackr': 1, 'Copyright': 1, 'ⓒ': 1, '2019': 1, 'All': 1, 'right': 1}\n"
     ]
    }
   ],
   "source": [
    "StringSearch()"
   ]
  },
  {
   "cell_type": "markdown",
   "id": "b297bd01",
   "metadata": {},
   "source": [
    "이번 과제는 지난 과제의 new3_list=[]를 구하는 것 까지는 동일하다.  \n",
    "new4_list는 new3_list에서 추출된 단어에서 필요없는 구두문자를 제거하여 저장하는 리스트이다.  \n",
    "string 모듈에서 punctuation 함수를 이용하여 구두문자를 제거하였고, 구두문자만을 가지고있던 요소는 ''이 반환되므로 new4_list에 추가하지 않도록 하였다.  \n",
    "new_dic는 new4_list에 있는 단어들의 출현빈도를 나타낼 수 있는 사전이다.  \n",
    "new4_list의 단어를 각각의 단어들과 비교하여 같으면 cnt을 증가시켜 몇번 반복되었는지 나타내주었고, 한번 비교한 단어는 다시 비교하지 않도록 ''로 바꾸었다. 이때 ''를 비교하지 않도록 'if new4_list[i] == '': break'를 구현하여 의미없는 단어들은 비교하지 않도록 하였다.  "
   ]
  },
  {
   "cell_type": "markdown",
   "id": "bbb75523",
   "metadata": {},
   "source": [
    "### "
   ]
  },
  {
   "cell_type": "markdown",
   "id": "4bee1c59",
   "metadata": {},
   "source": [
    "### "
   ]
  },
  {
   "cell_type": "markdown",
   "id": "f7ff5195",
   "metadata": {},
   "source": [
    "## 소감\n",
    "이번과제를 통해서 리스트를 활용하는 방법과 리스트 내포를 활용하면 코드를 더욱 간단하게 짤수 있다는 것을 알게 되었고, 문제들이 생각보다 쉽지 않아서 많은 어려움을 겪었습니다. 공지사항을 통해 약간의 힌트를 주신다면 다음 과제를 할때 수월하게 수행할수 있을 것 같습니다. "
   ]
  }
 ],
 "metadata": {
  "kernelspec": {
   "display_name": "Python 3",
   "language": "python",
   "name": "python3"
  },
  "language_info": {
   "codemirror_mode": {
    "name": "ipython",
    "version": 3
   },
   "file_extension": ".py",
   "mimetype": "text/x-python",
   "name": "python",
   "nbconvert_exporter": "python",
   "pygments_lexer": "ipython3",
   "version": "3.8.8"
  }
 },
 "nbformat": 4,
 "nbformat_minor": 5
}
